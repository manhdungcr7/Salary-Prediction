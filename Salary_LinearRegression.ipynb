{
  "nbformat": 4,
  "nbformat_minor": 0,
  "metadata": {
    "colab": {
      "provenance": [],
      "gpuType": "T4"
    },
    "kernelspec": {
      "name": "python3",
      "display_name": "Python 3"
    },
    "language_info": {
      "name": "python"
    },
    "accelerator": "GPU"
  },
  "cells": [
    {
      "cell_type": "code",
      "execution_count": 1,
      "metadata": {
        "colab": {
          "base_uri": "https://localhost:8080/",
          "height": 73
        },
        "id": "ooDCLhQiYxKd",
        "outputId": "eab34ad0-e8b7-45a8-c0ec-ed57c9a344c6"
      },
      "outputs": [
        {
          "output_type": "display_data",
          "data": {
            "text/plain": [
              "<IPython.core.display.HTML object>"
            ],
            "text/html": [
              "\n",
              "     <input type=\"file\" id=\"files-c553911c-e8e6-4900-b1cb-f00164286564\" name=\"files[]\" multiple disabled\n",
              "        style=\"border:none\" />\n",
              "     <output id=\"result-c553911c-e8e6-4900-b1cb-f00164286564\">\n",
              "      Upload widget is only available when the cell has been executed in the\n",
              "      current browser session. Please rerun this cell to enable.\n",
              "      </output>\n",
              "      <script>// Copyright 2017 Google LLC\n",
              "//\n",
              "// Licensed under the Apache License, Version 2.0 (the \"License\");\n",
              "// you may not use this file except in compliance with the License.\n",
              "// You may obtain a copy of the License at\n",
              "//\n",
              "//      http://www.apache.org/licenses/LICENSE-2.0\n",
              "//\n",
              "// Unless required by applicable law or agreed to in writing, software\n",
              "// distributed under the License is distributed on an \"AS IS\" BASIS,\n",
              "// WITHOUT WARRANTIES OR CONDITIONS OF ANY KIND, either express or implied.\n",
              "// See the License for the specific language governing permissions and\n",
              "// limitations under the License.\n",
              "\n",
              "/**\n",
              " * @fileoverview Helpers for google.colab Python module.\n",
              " */\n",
              "(function(scope) {\n",
              "function span(text, styleAttributes = {}) {\n",
              "  const element = document.createElement('span');\n",
              "  element.textContent = text;\n",
              "  for (const key of Object.keys(styleAttributes)) {\n",
              "    element.style[key] = styleAttributes[key];\n",
              "  }\n",
              "  return element;\n",
              "}\n",
              "\n",
              "// Max number of bytes which will be uploaded at a time.\n",
              "const MAX_PAYLOAD_SIZE = 100 * 1024;\n",
              "\n",
              "function _uploadFiles(inputId, outputId) {\n",
              "  const steps = uploadFilesStep(inputId, outputId);\n",
              "  const outputElement = document.getElementById(outputId);\n",
              "  // Cache steps on the outputElement to make it available for the next call\n",
              "  // to uploadFilesContinue from Python.\n",
              "  outputElement.steps = steps;\n",
              "\n",
              "  return _uploadFilesContinue(outputId);\n",
              "}\n",
              "\n",
              "// This is roughly an async generator (not supported in the browser yet),\n",
              "// where there are multiple asynchronous steps and the Python side is going\n",
              "// to poll for completion of each step.\n",
              "// This uses a Promise to block the python side on completion of each step,\n",
              "// then passes the result of the previous step as the input to the next step.\n",
              "function _uploadFilesContinue(outputId) {\n",
              "  const outputElement = document.getElementById(outputId);\n",
              "  const steps = outputElement.steps;\n",
              "\n",
              "  const next = steps.next(outputElement.lastPromiseValue);\n",
              "  return Promise.resolve(next.value.promise).then((value) => {\n",
              "    // Cache the last promise value to make it available to the next\n",
              "    // step of the generator.\n",
              "    outputElement.lastPromiseValue = value;\n",
              "    return next.value.response;\n",
              "  });\n",
              "}\n",
              "\n",
              "/**\n",
              " * Generator function which is called between each async step of the upload\n",
              " * process.\n",
              " * @param {string} inputId Element ID of the input file picker element.\n",
              " * @param {string} outputId Element ID of the output display.\n",
              " * @return {!Iterable<!Object>} Iterable of next steps.\n",
              " */\n",
              "function* uploadFilesStep(inputId, outputId) {\n",
              "  const inputElement = document.getElementById(inputId);\n",
              "  inputElement.disabled = false;\n",
              "\n",
              "  const outputElement = document.getElementById(outputId);\n",
              "  outputElement.innerHTML = '';\n",
              "\n",
              "  const pickedPromise = new Promise((resolve) => {\n",
              "    inputElement.addEventListener('change', (e) => {\n",
              "      resolve(e.target.files);\n",
              "    });\n",
              "  });\n",
              "\n",
              "  const cancel = document.createElement('button');\n",
              "  inputElement.parentElement.appendChild(cancel);\n",
              "  cancel.textContent = 'Cancel upload';\n",
              "  const cancelPromise = new Promise((resolve) => {\n",
              "    cancel.onclick = () => {\n",
              "      resolve(null);\n",
              "    };\n",
              "  });\n",
              "\n",
              "  // Wait for the user to pick the files.\n",
              "  const files = yield {\n",
              "    promise: Promise.race([pickedPromise, cancelPromise]),\n",
              "    response: {\n",
              "      action: 'starting',\n",
              "    }\n",
              "  };\n",
              "\n",
              "  cancel.remove();\n",
              "\n",
              "  // Disable the input element since further picks are not allowed.\n",
              "  inputElement.disabled = true;\n",
              "\n",
              "  if (!files) {\n",
              "    return {\n",
              "      response: {\n",
              "        action: 'complete',\n",
              "      }\n",
              "    };\n",
              "  }\n",
              "\n",
              "  for (const file of files) {\n",
              "    const li = document.createElement('li');\n",
              "    li.append(span(file.name, {fontWeight: 'bold'}));\n",
              "    li.append(span(\n",
              "        `(${file.type || 'n/a'}) - ${file.size} bytes, ` +\n",
              "        `last modified: ${\n",
              "            file.lastModifiedDate ? file.lastModifiedDate.toLocaleDateString() :\n",
              "                                    'n/a'} - `));\n",
              "    const percent = span('0% done');\n",
              "    li.appendChild(percent);\n",
              "\n",
              "    outputElement.appendChild(li);\n",
              "\n",
              "    const fileDataPromise = new Promise((resolve) => {\n",
              "      const reader = new FileReader();\n",
              "      reader.onload = (e) => {\n",
              "        resolve(e.target.result);\n",
              "      };\n",
              "      reader.readAsArrayBuffer(file);\n",
              "    });\n",
              "    // Wait for the data to be ready.\n",
              "    let fileData = yield {\n",
              "      promise: fileDataPromise,\n",
              "      response: {\n",
              "        action: 'continue',\n",
              "      }\n",
              "    };\n",
              "\n",
              "    // Use a chunked sending to avoid message size limits. See b/62115660.\n",
              "    let position = 0;\n",
              "    do {\n",
              "      const length = Math.min(fileData.byteLength - position, MAX_PAYLOAD_SIZE);\n",
              "      const chunk = new Uint8Array(fileData, position, length);\n",
              "      position += length;\n",
              "\n",
              "      const base64 = btoa(String.fromCharCode.apply(null, chunk));\n",
              "      yield {\n",
              "        response: {\n",
              "          action: 'append',\n",
              "          file: file.name,\n",
              "          data: base64,\n",
              "        },\n",
              "      };\n",
              "\n",
              "      let percentDone = fileData.byteLength === 0 ?\n",
              "          100 :\n",
              "          Math.round((position / fileData.byteLength) * 100);\n",
              "      percent.textContent = `${percentDone}% done`;\n",
              "\n",
              "    } while (position < fileData.byteLength);\n",
              "  }\n",
              "\n",
              "  // All done.\n",
              "  yield {\n",
              "    response: {\n",
              "      action: 'complete',\n",
              "    }\n",
              "  };\n",
              "}\n",
              "\n",
              "scope.google = scope.google || {};\n",
              "scope.google.colab = scope.google.colab || {};\n",
              "scope.google.colab._files = {\n",
              "  _uploadFiles,\n",
              "  _uploadFilesContinue,\n",
              "};\n",
              "})(self);\n",
              "</script> "
            ]
          },
          "metadata": {}
        },
        {
          "output_type": "stream",
          "name": "stdout",
          "text": [
            "Saving Salary_Data.csv to Salary_Data.csv\n"
          ]
        }
      ],
      "source": [
        "from google.colab import files\n",
        "uploaded = files.upload() 
      ]
    },
    {
      "cell_type": "code",
      "source": [
        "import pandas as pd\n",
        "import io\n",
        "\n",
        "df = pd.read_csv(io.BytesIO(uploaded['Salary_Data.csv']))\n",
        "print(df.head())"
      ],
      "metadata": {
        "colab": {
          "base_uri": "https://localhost:8080/"
        },
        "id": "YF2uBTUeZVfV",
        "outputId": "98db603a-a7cc-4d36-e140-84ff43b499ff"
      },
      "execution_count": 2,
      "outputs": [
        {
          "output_type": "stream",
          "name": "stdout",
          "text": [
            "    Age  Gender Education Level          Job Title  Years of Experience  \\\n",
            "0  32.0    Male      Bachelor's  Software Engineer                  5.0   \n",
            "1  28.0  Female        Master's       Data Analyst                  3.0   \n",
            "2  45.0    Male             PhD     Senior Manager                 15.0   \n",
            "3  36.0  Female      Bachelor's    Sales Associate                  7.0   \n",
            "4  52.0    Male        Master's           Director                 20.0   \n",
            "\n",
            "     Salary  \n",
            "0   90000.0  \n",
            "1   65000.0  \n",
            "2  150000.0  \n",
            "3   60000.0  \n",
            "4  200000.0  \n"
          ]
        }
      ]
    },
    {
      "cell_type": "code",
      "source": [
        "import numpy as np\n",
        "from sklearn.linear_model import LinearRegression"
      ],
      "metadata": {
        "id": "Sto0ygvYgUxS"
      },
      "execution_count": 3,
      "outputs": []
    },
    {
      "cell_type": "code",
      "source": [
        "def mse(y_true, y_pred):\n",
        "  return np.mean((y_true-y_pred)**2)"
      ],
      "metadata": {
        "id": "203xWI9fhzcf"
      },
      "execution_count": 4,
      "outputs": []
    },
    {
      "cell_type": "code",
      "source": [
        "data = df.dropna(axis=0)"
      ],
      "metadata": {
        "id": "pEbdtHMziUJ_"
      },
      "execution_count": 5,
      "outputs": []
    },
    {
      "cell_type": "code",
      "source": [
        "data.rename(columns={\"Years of Experience\":\"Year_Exp\"}, inplace = True)"
      ],
      "metadata": {
        "colab": {
          "base_uri": "https://localhost:8080/"
        },
        "id": "BgBscTKKppUa",
        "outputId": "756167ae-d28c-41db-abad-ab458adf0248"
      },
      "execution_count": 6,
      "outputs": [
        {
          "output_type": "stream",
          "name": "stderr",
          "text": [
            "<ipython-input-6-860e41875845>:1: SettingWithCopyWarning: \n",
            "A value is trying to be set on a copy of a slice from a DataFrame\n",
            "\n",
            "See the caveats in the documentation: https://pandas.pydata.org/pandas-docs/stable/user_guide/indexing.html#returning-a-view-versus-a-copy\n",
            "  data.rename(columns={\"Years of Experience\":\"Year_Exp\"}, inplace = True)\n"
          ]
        }
      ]
    },
    {
      "cell_type": "code",
      "source": [
        "ols_data=data[[\"Age\",\"Year_Exp\",\"Salary\"]]\n",
        "X=ols_data[[\"Age\",\"Year_Exp\"]].values\n",
        "Y=ols_data[\"Salary\"].values.reshape(-1,1)"
      ],
      "metadata": {
        "id": "nXe1YrjwqdgJ"
      },
      "execution_count": 7,
      "outputs": []
    },
    {
      "cell_type": "code",
      "source": [
        "from sklearn.preprocessing import StandardScaler\n",
        "\n",
        "# Khởi tạo scaler\n",
        "scaler_X = StandardScaler()\n",
        "scaler_Y = StandardScaler()\n",
        "\n",
        "# Scale X và Y\n",
        "X = scaler_X.fit_transform(X)\n",
        "Y = scaler_Y.fit_transform(Y)\n",
        "\n",
        "print(\"X sau khi scale:\\n\", X[:5])\n",
        "print(\"Y sau khi scale:\\n\", Y[:5])\n"
      ],
      "metadata": {
        "colab": {
          "base_uri": "https://localhost:8080/"
        },
        "id": "Djk6JjA2Zeri",
        "outputId": "ad967563-4f0b-4228-feb8-7751edce9b72"
      },
      "execution_count": 8,
      "outputs": [
        {
          "output_type": "stream",
          "name": "stdout",
          "text": [
            "X sau khi scale:\n",
            " [[-0.2131288  -0.51076899]\n",
            " [-0.73839298 -0.84081078]\n",
            " [ 1.49397978  1.13943997]\n",
            " [ 0.31213538 -0.1807272 ]\n",
            " [ 2.41319209  1.96454444]]\n",
            "Y sau khi scale:\n",
            " [[-0.47984928]\n",
            " [-0.95346104]\n",
            " [ 0.65681894]\n",
            " [-1.04818339]\n",
            " [ 1.60404245]]\n"
          ]
        }
      ]
    },
    {
      "cell_type": "markdown",
      "source": [
        "# Normal Equation"
      ],
      "metadata": {
        "id": "XtU4ROxP1mH8"
      }
    },
    {
      "cell_type": "code",
      "source": [
        "X_copy=X.copy()\n",
        "X_b=np.c_[np.ones((X_copy.shape[0],1)),X_copy]"
      ],
      "metadata": {
        "id": "x8f0ggWNq8nv"
      },
      "execution_count": 9,
      "outputs": []
    },
    {
      "cell_type": "code",
      "source": [
        "theta = np.linalg.inv(X_b.T @ X_b) @ X_b.T @ Y"
      ],
      "metadata": {
        "id": "tlxNQ-O63SZT"
      },
      "execution_count": 10,
      "outputs": []
    },
    {
      "cell_type": "code",
      "source": [
        "print(f\"w: {theta[:,0]}\")\n",
        "Y_pred = X_b @ theta\n",
        "loss = mse(Y, Y_pred)\n",
        "print(f\"MSE: {loss}\")"
      ],
      "metadata": {
        "colab": {
          "base_uri": "https://localhost:8080/"
        },
        "id": "v7Wb0xs34NaI",
        "outputId": "f09f182b-ed45-4787-9a37-f13498595307"
      },
      "execution_count": 11,
      "outputs": [
        {
          "output_type": "stream",
          "name": "stdout",
          "text": [
            "w: [ 1.72632091e-15 -2.52995685e-01  1.04620863e+00]\n",
            "MSE: 0.3378467191492235\n"
          ]
        }
      ]
    },
    {
      "cell_type": "markdown",
      "source": [
        "# Sklearn"
      ],
      "metadata": {
        "id": "x33K4TUn8dm0"
      }
    },
    {
      "cell_type": "code",
      "source": [
        "model = LinearRegression(fit_intercept=False)\n",
        "model.fit(X,Y)\n",
        "print(f\"w: {np.array([model.intercept_, *model.coef_[0]])}\")\n",
        "Y_pred = model.predict(X)\n",
        "loss = mse(Y, Y_pred)\n",
        "print(f\"MSE: {loss}\")"
      ],
      "metadata": {
        "colab": {
          "base_uri": "https://localhost:8080/"
        },
        "id": "00yr5krm4TFh",
        "outputId": "6707eb90-2895-4ecc-88b2-6f245bcc43ff"
      },
      "execution_count": 24,
      "outputs": [
        {
          "output_type": "stream",
          "name": "stdout",
          "text": [
            "w: [ 0.         -0.25299568  1.04620863]\n",
            "MSE: 0.3378467191492235\n"
          ]
        }
      ]
    },
    {
      "cell_type": "markdown",
      "source": [
        "# Gradient Decent"
      ],
      "metadata": {
        "id": "4VqypRkD-B46"
      }
    },
    {
      "cell_type": "code",
      "source": [
        "X_b = np.c_[np.ones((X.shape[0],1)),X]\n",
        "m,n = X_b.shape\n",
        "theta = np.zeros((n,1))\n",
        "alpha = 0.0009\n",
        "n_iter = 1000000\n",
        "loss_history = []\n",
        "for iter in range(n_iter):\n",
        "  gradient = (2/m) * X_b.T @ (X_b @ theta - Y)\n",
        "  theta -= alpha * gradient\n",
        "  loss = np.mean((Y-X_b @ theta)**2)\n",
        "  loss_history.append(loss)\n",
        "  a= iter\n",
        "  if iter >10 and abs(loss_history[-1]-loss_history[-2])<1e-16:\n",
        "    break\n",
        "print(a)\n",
        "print(f\"w: {theta.flatten()}\")\n",
        "print(f\"MSE: {loss}\")"
      ],
      "metadata": {
        "colab": {
          "base_uri": "https://localhost:8080/"
        },
        "id": "ppz86OhtHve1",
        "outputId": "b2d2ac7d-2430-4762-fef2-c7fb2dcd1d69"
      },
      "execution_count": 39,
      "outputs": [
        {
          "output_type": "stream",
          "name": "stdout",
          "text": [
            "110799\n",
            "w: [-1.07327135e-16 -2.52993064e-01  1.04620601e+00]\n",
            "MSE: 0.3378467191500788\n"
          ]
        }
      ]
    },
    {
      "cell_type": "code",
      "source": [],
      "metadata": {
        "id": "1umsSJHfHvbo"
      },
      "execution_count": null,
      "outputs": []
    }
  ]
}
